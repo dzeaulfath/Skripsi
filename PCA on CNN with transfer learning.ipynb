{
  "cells": [
    {
      "cell_type": "markdown",
      "metadata": {
        "id": "9jFGYn9o_6zr"
      },
      "source": [
        "https://gist.github.com/thomasmontoya123/e0237534cbb3d39d092ce67a3f7c273d"
      ]
    },
    {
      "cell_type": "code",
      "execution_count": null,
      "metadata": {
        "colab": {
          "base_uri": "https://localhost:8080/"
        },
        "id": "mJuEQO-oDb3Z",
        "outputId": "b04a7a89-556c-4027-9530-27fd7820f441"
      },
      "outputs": [
        {
          "output_type": "stream",
          "name": "stdout",
          "text": [
            "Looking in indexes: https://pypi.org/simple, https://us-python.pkg.dev/colab-wheels/public/simple/\n",
            "Collecting visualkeras\n",
            "  Downloading visualkeras-0.0.2-py3-none-any.whl (12 kB)\n",
            "Requirement already satisfied: pillow>=6.2.0 in /usr/local/lib/python3.9/dist-packages (from visualkeras) (8.4.0)\n",
            "Requirement already satisfied: numpy>=1.18.1 in /usr/local/lib/python3.9/dist-packages (from visualkeras) (1.22.4)\n",
            "Collecting aggdraw>=1.3.11\n",
            "  Downloading aggdraw-1.3.16-cp39-cp39-manylinux_2_17_x86_64.manylinux2014_x86_64.whl (992 kB)\n",
            "\u001b[2K     \u001b[90m━━━━━━━━━━━━━━━━━━━━━━━━━━━━━━━━━━━━━━\u001b[0m \u001b[32m992.0/992.0 KB\u001b[0m \u001b[31m22.9 MB/s\u001b[0m eta \u001b[36m0:00:00\u001b[0m\n",
            "\u001b[?25hInstalling collected packages: aggdraw, visualkeras\n",
            "Successfully installed aggdraw-1.3.16 visualkeras-0.0.2\n"
          ]
        }
      ],
      "source": [
        "!pip install visualkeras"
      ]
    },
    {
      "cell_type": "code",
      "execution_count": null,
      "metadata": {
        "id": "gWPxLijQCBJk"
      },
      "outputs": [],
      "source": [
        "import tensorflow as tf\n",
        "from tensorflow import keras\n",
        "from keras.models import Sequential\n",
        "from keras.layers import Dense\n",
        "from keras.utils import np_utils\n",
        "from tensorflow.keras.optimizers import RMSprop\n",
        "import numpy as np\n",
        "import pandas as pd\n",
        "import matplotlib.pyplot as plt\n",
        "from sklearn.decomposition import PCA\n",
        "import seaborn as sns\n",
        "\n",
        "import visualkeras"
      ]
    },
    {
      "cell_type": "code",
      "execution_count": null,
      "metadata": {
        "colab": {
          "base_uri": "https://localhost:8080/"
        },
        "id": "bSDOAXEUCBJq",
        "outputId": "dc8149e5-129c-4ff3-d5a2-d33d2ca9cc93"
      },
      "outputs": [
        {
          "output_type": "stream",
          "name": "stdout",
          "text": [
            "Downloading data from https://www.cs.toronto.edu/~kriz/cifar-10-python.tar.gz\n",
            "170498071/170498071 [==============================] - 3s 0us/step\n",
            "Training Data Shape:  (50000, 32, 32, 3)\n",
            "Testing Data Shape:  (10000, 32, 32, 3)\n",
            "Label Training Data Shape:  (50000, 1)\n",
            "Label Testing Data Shape:  (10000, 1)\n"
          ]
        }
      ],
      "source": [
        "data = keras.datasets.cifar10\n",
        "(x_train, y_train), (x_test, y_test) = data.load_data()\n",
        "\n",
        "#print the shape of training, testing, and label data\n",
        "print('Training Data Shape: ', x_train.shape)\n",
        "print('Testing Data Shape: ', x_test.shape)\n",
        "\n",
        "print('Label Training Data Shape: ', y_train.shape)\n",
        "print('Label Testing Data Shape: ', y_test.shape)"
      ]
    },
    {
      "cell_type": "code",
      "execution_count": null,
      "metadata": {
        "id": "HvPG8ZumsfJW"
      },
      "outputs": [],
      "source": [
        "def preprocess_data(X, Y):\n",
        "    \"\"\"\n",
        "    Pre-processes the data for the model\n",
        "\n",
        "        :param X: numpy.ndarray of shape (m, 32, 32, 3)\n",
        "            containing the CIFAR 10 data, where m is the\n",
        "            number of data points\n",
        "\n",
        "        :param Y: numpy.ndarray of shape (m,) containing\n",
        "            the CIFAR 10 labels for X\n",
        "\n",
        "        :returns: X_p, Y_p\n",
        "    \"\"\"\n",
        "    X_p = tf.keras.applications.densenet.preprocess_input(X)\n",
        "\n",
        "    # encode to one-hot\n",
        "    Y_p = tf.keras.utils.to_categorical(Y, 10)\n",
        "    return X_p, Y_p"
      ]
    },
    {
      "cell_type": "code",
      "execution_count": null,
      "metadata": {
        "id": "NEKnVUUWDCLg"
      },
      "outputs": [],
      "source": [
        "CALLBACKS = []\n",
        "MODEL_PATH = 'cifar10.h5'\n",
        "optimizer = tf.keras.optimizers.Adam()\n",
        "\n",
        "\n",
        "# pre-procces data\n",
        "x_train, y_train = preprocess_data(x_train, y_train)\n",
        "x_test, y_test = preprocess_data(x_test, y_test)"
      ]
    },
    {
      "cell_type": "code",
      "execution_count": null,
      "metadata": {
        "id": "t-p6q-FHDEeC"
      },
      "outputs": [],
      "source": [
        "# input tensor\n",
        "inputs = tf.keras.Input(shape=(32, 32, 3))\n",
        "\n",
        "# upscale layer\n",
        "upscale = tf.keras.layers.Lambda(lambda x: tf.image.resize_with_pad(x,\n",
        "                                                                  160,\n",
        "                                                                  160,\n",
        "                                                                  method=tf.image.ResizeMethod.BILINEAR))(inputs)"
      ]
    },
    {
      "cell_type": "code",
      "execution_count": null,
      "metadata": {
        "id": "9SPaIrTuDIFp",
        "colab": {
          "base_uri": "https://localhost:8080/"
        },
        "outputId": "158ec67c-44f0-478d-941f-39394614458c"
      },
      "outputs": [
        {
          "output_type": "stream",
          "name": "stdout",
          "text": [
            "Downloading data from https://storage.googleapis.com/tensorflow/keras-applications/densenet/densenet121_weights_tf_dim_ordering_tf_kernels_notop.h5\n",
            "29084464/29084464 [==============================] - 0s 0us/step\n"
          ]
        }
      ],
      "source": [
        "# load base model\n",
        "base_model = tf.keras.applications.DenseNet121(include_top=False,\n",
        "                                        weights='imagenet',\n",
        "                                        input_tensor=upscale,\n",
        "                                        input_shape=(160,160,3),\n",
        "                                        pooling='max')\n",
        "# add top layers\n",
        "out = base_model.output\n",
        "out = tf.keras.layers.Flatten()(out)\n",
        "out = tf.keras.layers.BatchNormalization()(out)\n",
        "out = tf.keras.layers.Dense(256, activation='relu')(out)\n",
        "out = tf.keras.layers.Dropout(0.3)(out)\n",
        "out = tf.keras.layers.BatchNormalization()(out)\n",
        "out = tf.keras.layers.Dense(128, activation='relu')(out)\n",
        "out = tf.keras.layers.Dropout(0.3)(out)\n",
        "out = tf.keras.layers.BatchNormalization()(out)\n",
        "out = tf.keras.layers.Dense(64, activation='relu')(out)\n",
        "out = tf.keras.layers.Dropout(0.3)(out)\n",
        "out = tf.keras.layers.Dense(10, activation='softmax')(out)"
      ]
    },
    {
      "cell_type": "code",
      "execution_count": null,
      "metadata": {
        "id": "pTEJs4yWDP2Q"
      },
      "outputs": [],
      "source": [
        "# callbacks\n",
        "CALLBACKS.append(tf.keras.callbacks.ModelCheckpoint(filepath=MODEL_PATH,\n",
        "                                              monitor='val_accuracy',\n",
        "                                              save_best_only=True))\n",
        "\n",
        "CALLBACKS.append(tf.keras.callbacks.EarlyStopping(monitor='val_accuracy',\n",
        "                                            verbose=1,\n",
        "                                            patience=5))\n",
        "\n",
        "CALLBACKS.append(tf.keras.callbacks.TensorBoard(log_dir='logs'))"
      ]
    },
    {
      "cell_type": "code",
      "execution_count": null,
      "metadata": {
        "colab": {
          "base_uri": "https://localhost:8080/"
        },
        "id": "0E9uaPt2spp-",
        "outputId": "4dc2330c-eb54-4494-e3ab-bf7e5d1f6586"
      },
      "outputs": [
        {
          "output_type": "stream",
          "name": "stdout",
          "text": [
            "Epoch 1/5\n",
            "391/391 [==============================] - 379s 765ms/step - loss: 0.7974 - accuracy: 0.7467 - val_loss: 0.5286 - val_accuracy: 0.8426\n",
            "Epoch 2/5\n",
            "391/391 [==============================] - 291s 743ms/step - loss: 0.3750 - accuracy: 0.8868 - val_loss: 0.3817 - val_accuracy: 0.8776\n",
            "Epoch 3/5\n",
            "391/391 [==============================] - 290s 743ms/step - loss: 0.2892 - accuracy: 0.9109 - val_loss: 0.3928 - val_accuracy: 0.8808\n",
            "Epoch 4/5\n",
            "391/391 [==============================] - 291s 743ms/step - loss: 0.2330 - accuracy: 0.9276 - val_loss: 0.3796 - val_accuracy: 0.8750\n",
            "Epoch 5/5\n",
            "391/391 [==============================] - 284s 726ms/step - loss: 0.1960 - accuracy: 0.9387 - val_loss: 0.4102 - val_accuracy: 0.8842\n"
          ]
        },
        {
          "output_type": "execute_result",
          "data": {
            "text/plain": [
              "<keras.callbacks.History at 0x7f77e8332580>"
            ]
          },
          "metadata": {},
          "execution_count": 9
        }
      ],
      "source": [
        "# model compile\n",
        "model = tf.keras.models.Model(inputs=inputs, outputs=out)\n",
        "\n",
        "model.compile(optimizer=optimizer,\n",
        "              loss='categorical_crossentropy',\n",
        "              metrics=['accuracy'])\n",
        "\n",
        "\n",
        "# train\n",
        "model.fit(x=x_train,\n",
        "          y=y_train,\n",
        "          batch_size=128,\n",
        "          epochs=5,\n",
        "          validation_data=(x_test, y_test))"
      ]
    },
    {
      "cell_type": "code",
      "execution_count": null,
      "metadata": {
        "colab": {
          "base_uri": "https://localhost:8080/"
        },
        "id": "IXy03AE1-4r-",
        "outputId": "98ca461c-63d0-48d5-d824-d7e61cc68741"
      },
      "outputs": [
        {
          "output_type": "stream",
          "name": "stdout",
          "text": [
            "Epoch 1/100\n",
            "391/391 [==============================] - 304s 735ms/step - loss: 0.1725 - accuracy: 0.9473 - val_loss: 0.3323 - val_accuracy: 0.8984\n",
            "Epoch 2/100\n",
            "391/391 [==============================] - 290s 741ms/step - loss: 0.1592 - accuracy: 0.9507 - val_loss: 0.3885 - val_accuracy: 0.8909\n",
            "Epoch 3/100\n",
            "391/391 [==============================] - 291s 745ms/step - loss: 0.1389 - accuracy: 0.9569 - val_loss: 0.3176 - val_accuracy: 0.9057\n",
            "Epoch 4/100\n",
            "391/391 [==============================] - 284s 727ms/step - loss: 0.1315 - accuracy: 0.9595 - val_loss: 0.3128 - val_accuracy: 0.9066\n",
            "Epoch 5/100\n",
            "391/391 [==============================] - 290s 741ms/step - loss: 0.1090 - accuracy: 0.9672 - val_loss: 0.3513 - val_accuracy: 0.9049\n",
            "Epoch 6/100\n",
            "391/391 [==============================] - 284s 728ms/step - loss: 0.1076 - accuracy: 0.9663 - val_loss: 0.2497 - val_accuracy: 0.9250\n",
            "Epoch 7/100\n",
            "391/391 [==============================] - 290s 741ms/step - loss: 0.0937 - accuracy: 0.9708 - val_loss: 0.3102 - val_accuracy: 0.9125\n",
            "Epoch 8/100\n",
            "391/391 [==============================] - 290s 741ms/step - loss: 0.0862 - accuracy: 0.9731 - val_loss: 0.3468 - val_accuracy: 0.9053\n",
            "Epoch 9/100\n",
            "391/391 [==============================] - 290s 741ms/step - loss: 0.0854 - accuracy: 0.9734 - val_loss: 0.3152 - val_accuracy: 0.9158\n",
            "Epoch 10/100\n",
            "391/391 [==============================] - 289s 740ms/step - loss: 0.0759 - accuracy: 0.9763 - val_loss: 0.3603 - val_accuracy: 0.9008\n",
            "Epoch 11/100\n",
            "391/391 [==============================] - 291s 743ms/step - loss: 0.0683 - accuracy: 0.9788 - val_loss: 0.2915 - val_accuracy: 0.9253\n",
            "Epoch 12/100\n",
            "391/391 [==============================] - 283s 723ms/step - loss: 0.0718 - accuracy: 0.9775 - val_loss: 0.3434 - val_accuracy: 0.9100\n",
            "Epoch 13/100\n",
            "391/391 [==============================] - 289s 740ms/step - loss: 0.0613 - accuracy: 0.9818 - val_loss: 0.3691 - val_accuracy: 0.9044\n",
            "Epoch 14/100\n",
            "391/391 [==============================] - 289s 739ms/step - loss: 0.0604 - accuracy: 0.9824 - val_loss: 0.3205 - val_accuracy: 0.9174\n",
            "Epoch 15/100\n",
            "391/391 [==============================] - 282s 722ms/step - loss: 0.0562 - accuracy: 0.9825 - val_loss: 0.3209 - val_accuracy: 0.9208\n",
            "Epoch 16/100\n",
            "391/391 [==============================] - 289s 740ms/step - loss: 0.0600 - accuracy: 0.9813 - val_loss: 0.3477 - val_accuracy: 0.9108\n",
            "Epoch 16: early stopping\n"
          ]
        },
        {
          "output_type": "execute_result",
          "data": {
            "text/plain": [
              "<keras.callbacks.History at 0x7f7744ffc9a0>"
            ]
          },
          "metadata": {},
          "execution_count": 10
        }
      ],
      "source": [
        "# model compile\n",
        "model1 = tf.keras.models.Model(inputs=inputs, outputs=out)\n",
        "\n",
        "model1.compile(optimizer=optimizer,\n",
        "              loss='categorical_crossentropy',\n",
        "              metrics=['accuracy'])\n",
        "\n",
        "\n",
        "# train\n",
        "model1.fit(x=x_train,\n",
        "          y=y_train,\n",
        "          batch_size=128,\n",
        "          epochs=100,\n",
        "          callbacks=CALLBACKS,\n",
        "          validation_data=(x_test, y_test))"
      ]
    },
    {
      "cell_type": "code",
      "execution_count": null,
      "metadata": {
        "colab": {
          "base_uri": "https://localhost:8080/"
        },
        "id": "0t6GzBqDiXaq",
        "outputId": "e440ed18-16a6-4833-dbe0-44718e94f4ba"
      },
      "outputs": [
        {
          "output_type": "stream",
          "name": "stdout",
          "text": [
            "79/79 [==============================] - 14s 172ms/step - loss: 0.3477 - accuracy: 0.9108\n"
          ]
        },
        {
          "output_type": "execute_result",
          "data": {
            "text/plain": [
              "[0.34768593311309814, 0.9107999801635742]"
            ]
          },
          "metadata": {},
          "execution_count": 11
        }
      ],
      "source": [
        "model1.evaluate(x_test, y_test, batch_size=128, verbose=1)"
      ]
    },
    {
      "cell_type": "code",
      "execution_count": null,
      "metadata": {
        "colab": {
          "base_uri": "https://localhost:8080/"
        },
        "id": "21XU7SELieSk",
        "outputId": "d7bc4ce9-3c05-4efe-b588-791e376bf6f4"
      },
      "outputs": [
        {
          "output_type": "stream",
          "name": "stdout",
          "text": [
            "Epoch 1/150\n",
            "391/391 [==============================] - 300s 728ms/step - loss: 0.0541 - accuracy: 0.9828 - val_loss: 0.3269 - val_accuracy: 0.9163\n",
            "Epoch 2/150\n",
            "391/391 [==============================] - 289s 739ms/step - loss: 0.0468 - accuracy: 0.9853 - val_loss: 0.3563 - val_accuracy: 0.9146\n",
            "Epoch 3/150\n",
            "391/391 [==============================] - 290s 742ms/step - loss: 0.0476 - accuracy: 0.9852 - val_loss: 0.2866 - val_accuracy: 0.9259\n",
            "Epoch 4/150\n",
            "391/391 [==============================] - 289s 739ms/step - loss: 0.0500 - accuracy: 0.9847 - val_loss: 0.3901 - val_accuracy: 0.9046\n",
            "Epoch 5/150\n",
            "391/391 [==============================] - 290s 742ms/step - loss: 0.0404 - accuracy: 0.9876 - val_loss: 0.2696 - val_accuracy: 0.9327\n",
            "Epoch 6/150\n",
            "391/391 [==============================] - 289s 738ms/step - loss: 0.0450 - accuracy: 0.9869 - val_loss: 0.2657 - val_accuracy: 0.9307\n",
            "Epoch 7/150\n",
            "391/391 [==============================] - 288s 738ms/step - loss: 0.0375 - accuracy: 0.9890 - val_loss: 0.3303 - val_accuracy: 0.9239\n",
            "Epoch 8/150\n",
            "391/391 [==============================] - 289s 738ms/step - loss: 0.0432 - accuracy: 0.9871 - val_loss: 0.3583 - val_accuracy: 0.9162\n",
            "Epoch 9/150\n",
            "391/391 [==============================] - 288s 738ms/step - loss: 0.0377 - accuracy: 0.9886 - val_loss: 0.3455 - val_accuracy: 0.9197\n",
            "Epoch 10/150\n",
            "391/391 [==============================] - 288s 738ms/step - loss: 0.0381 - accuracy: 0.9880 - val_loss: 0.3220 - val_accuracy: 0.9233\n",
            "Epoch 10: early stopping\n"
          ]
        },
        {
          "output_type": "execute_result",
          "data": {
            "text/plain": [
              "<keras.callbacks.History at 0x7f76fc08b9d0>"
            ]
          },
          "metadata": {},
          "execution_count": 12
        }
      ],
      "source": [
        "# model compile\n",
        "model2 = tf.keras.models.Model(inputs=inputs, outputs=out)\n",
        "\n",
        "model2.compile(optimizer=optimizer,\n",
        "              loss='categorical_crossentropy',\n",
        "              metrics=['accuracy'])\n",
        "\n",
        "\n",
        "# train\n",
        "model2.fit(x=x_train,\n",
        "          y=y_train,\n",
        "          batch_size=128,\n",
        "          epochs=150,\n",
        "          callbacks=CALLBACKS,\n",
        "          validation_data=(x_test, y_test))"
      ]
    },
    {
      "cell_type": "code",
      "execution_count": null,
      "metadata": {
        "colab": {
          "base_uri": "https://localhost:8080/"
        },
        "id": "JyhEzH-BilP_",
        "outputId": "2ff2bff8-d363-47d4-b267-ee5de4d99c86"
      },
      "outputs": [
        {
          "output_type": "stream",
          "name": "stdout",
          "text": [
            "Epoch 1/200\n",
            "391/391 [==============================] - 299s 726ms/step - loss: 0.0314 - accuracy: 0.9908 - val_loss: 0.4682 - val_accuracy: 0.8996\n",
            "Epoch 2/200\n",
            "391/391 [==============================] - 282s 721ms/step - loss: 0.0386 - accuracy: 0.9887 - val_loss: 0.3127 - val_accuracy: 0.9312\n",
            "Epoch 3/200\n",
            "391/391 [==============================] - 288s 738ms/step - loss: 0.0320 - accuracy: 0.9903 - val_loss: 0.2833 - val_accuracy: 0.9311\n",
            "Epoch 4/200\n",
            "391/391 [==============================] - 282s 720ms/step - loss: 0.0330 - accuracy: 0.9901 - val_loss: 0.3462 - val_accuracy: 0.9182\n",
            "Epoch 5/200\n",
            "391/391 [==============================] - 289s 739ms/step - loss: 0.0316 - accuracy: 0.9901 - val_loss: 0.3249 - val_accuracy: 0.9224\n",
            "Epoch 6/200\n",
            "391/391 [==============================] - 282s 720ms/step - loss: 0.0311 - accuracy: 0.9904 - val_loss: 0.3014 - val_accuracy: 0.9280\n",
            "Epoch 7/200\n",
            "391/391 [==============================] - 288s 738ms/step - loss: 0.0307 - accuracy: 0.9908 - val_loss: 0.2953 - val_accuracy: 0.9287\n",
            "Epoch 7: early stopping\n"
          ]
        },
        {
          "output_type": "execute_result",
          "data": {
            "text/plain": [
              "<keras.callbacks.History at 0x7f76dd761e50>"
            ]
          },
          "metadata": {},
          "execution_count": 13
        }
      ],
      "source": [
        "# model compile\n",
        "model3 = tf.keras.models.Model(inputs=inputs, outputs=out)\n",
        "\n",
        "model3.compile(optimizer=optimizer,\n",
        "              loss='categorical_crossentropy',\n",
        "              metrics=['accuracy'])\n",
        "\n",
        "\n",
        "# train\n",
        "model3.fit(x=x_train,\n",
        "          y=y_train,\n",
        "          batch_size=128,\n",
        "          epochs=200,\n",
        "          callbacks=CALLBACKS,\n",
        "          validation_data=(x_test, y_test))"
      ]
    },
    {
      "cell_type": "code",
      "execution_count": null,
      "metadata": {
        "colab": {
          "base_uri": "https://localhost:8080/"
        },
        "id": "rydiqU9LilQA",
        "outputId": "b48aa21f-6e3d-4cc2-b83f-a25cd9137284"
      },
      "outputs": [
        {
          "output_type": "stream",
          "name": "stdout",
          "text": [
            "79/79 [==============================] - 14s 172ms/step - loss: 0.2953 - accuracy: 0.9287\n"
          ]
        },
        {
          "output_type": "execute_result",
          "data": {
            "text/plain": [
              "[0.29532909393310547, 0.9286999702453613]"
            ]
          },
          "metadata": {},
          "execution_count": 14
        }
      ],
      "source": [
        "model1.evaluate(x_test, y_test, batch_size=128, verbose=1)"
      ]
    },
    {
      "cell_type": "code",
      "execution_count": null,
      "metadata": {
        "colab": {
          "base_uri": "https://localhost:8080/"
        },
        "id": "m_N44UilieSl",
        "outputId": "8a96e861-cd2f-4cf5-9acf-bcda7ad95aaf"
      },
      "outputs": [
        {
          "output_type": "stream",
          "name": "stdout",
          "text": [
            "79/79 [==============================] - 14s 178ms/step - loss: 0.2953 - accuracy: 0.9287\n"
          ]
        },
        {
          "output_type": "execute_result",
          "data": {
            "text/plain": [
              "[0.29532909393310547, 0.9286999702453613]"
            ]
          },
          "metadata": {},
          "execution_count": 15
        }
      ],
      "source": [
        "model1.evaluate(x_test, y_test, batch_size=128, verbose=1)"
      ]
    },
    {
      "cell_type": "code",
      "execution_count": null,
      "metadata": {
        "colab": {
          "background_save": true
        },
        "id": "kYpBF0dpMNJW",
        "outputId": "1b12c356-3b70-4c07-9c0a-5ce123c850dc"
      },
      "outputs": [
        {
          "name": "stdout",
          "output_type": "stream",
          "text": [
            "313/313 [==============================] - 17s 48ms/step\n",
            "Confusion matrix: \n",
            " [[907   3  27   4  11   1  12   3  31   1]\n",
            " [ 11 943   0   2   1   0   3   1  11  28]\n",
            " [  5   1 923   9  10  15  33   3   1   0]\n",
            " [  2   0  20 820  22  78  46   7   5   0]\n",
            " [  0   1  22   6 947   5  13   4   2   0]\n",
            " [  1   0  15  45  16 898  10  14   1   0]\n",
            " [  0   0   4   2   2   3 988   1   0   0]\n",
            " [  3   0   6   5  18  11   1 954   2   0]\n",
            " [ 20   1  10   1   0   1   2   0 960   5]\n",
            " [ 14  16   4   4   1   1   7   1  18 934]]\n"
          ]
        }
      ],
      "source": [
        "from sklearn.metrics import confusion_matrix\n",
        "\n",
        "# make predictions on the test set\n",
        "y_pred = model.predict(x_test)\n",
        "y_pred = np.argmax(y_pred, axis=1)\n",
        "\n",
        "# convert y_test to 1D array\n",
        "y_test = np.argmax(y_test, axis=1)\n",
        "\n",
        "# calculate the confusion matrix\n",
        "cm = confusion_matrix(y_test, y_pred)\n",
        "print(\"Confusion matrix: \\n\", cm)"
      ]
    }
  ],
  "metadata": {
    "accelerator": "GPU",
    "colab": {
      "provenance": []
    },
    "kernelspec": {
      "display_name": "Python 3",
      "name": "python3"
    }
  },
  "nbformat": 4,
  "nbformat_minor": 0
}